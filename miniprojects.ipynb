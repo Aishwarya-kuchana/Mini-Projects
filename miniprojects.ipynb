{
 "cells": [
  {
   "cell_type": "markdown",
   "id": "2c141848-3f16-4f1e-8113-d6d2523406a4",
   "metadata": {},
   "source": [
    "# Mini Task 1: Rock-Paper-Scissors\n",
    "####Goal : Build a Rock-Paper-Scissors game where the user plays against the computer. Show choices using emojis, and decide the winner using if-elif-else.\n",
    "\n",
    "\n"
   ]
  },
  {
   "cell_type": "code",
   "execution_count": 4,
   "id": "3f554041-e596-4d7c-8c56-b32f9eb41094",
   "metadata": {},
   "outputs": [
    {
     "name": "stdin",
     "output_type": "stream",
     "text": [
      "enter your choice from Rock,Paper,Scissor scissor\n"
     ]
    },
    {
     "name": "stdout",
     "output_type": "stream",
     "text": [
      "user_choice=Scissor,✂️\n",
      "comp_choice=Scissor,✂️\n",
      "Both chooses same: Match tie\n"
     ]
    }
   ],
   "source": [
    "import random\n",
    "item_list=[\"Rock\",\"Paper\",\"Scissor\"]\n",
    "emojis = [\"\\U0001FAA8\", \"\\U0001F4C4\", \"\\u2702\\ufe0f\"]\n",
    "user_choice=input(\"enter your choice from Rock,Paper,Scissor\").capitalize()\n",
    "comp_index=random.randint(0,2)\n",
    "comp_choice=item_list[comp_index]\n",
    "user_index=item_list.index(user_choice)\n",
    "\n",
    "print(f\"user_choice={user_choice},{emojis[user_index]}\")\n",
    "print(f\"comp_choice={comp_choice},{emojis[comp_index]}\")\n",
    "if user_choice==comp_choice:\n",
    "    print(\"Both chooses same: Match tie\")\n",
    "elif user_choice==item_list[0]:\n",
    "    if comp_choice==item_list[1]:\n",
    "        print(f\"paper{emojis[1]} covers rock {emojis[0]}: Paper{emojis[1]} win\")\n",
    "        print(\"computer win\")\n",
    "    else:\n",
    "        print(f\"Rock {emojis[0]} smashes scissors{emojis[2]}: Rock{emojis[0]} win\")\n",
    "        print(\"user win\")\n",
    "elif user_choice==item_list[1]:\n",
    "    if comp_choice==item_list[0]:\n",
    "        print(f\"paper {emojis[1]} covers rock{emojis[0]}: Paper {emojis[1]} win\")\n",
    "        print(\"user win\")\n",
    "    else:\n",
    "        print(f\"Scissors{emojis[2]} cut paper{emojis[1]}: Scissors{emojis[2]} win\")\n",
    "        print(\"computer win\")\n",
    "elif user_choice==item_list[2]:\n",
    "    if comp_choice==item_list[1]:\n",
    "        print(f\"Scissors{emojis[2]} cut paper{emojis[1]}: Scissors{emojis[2]} win\")\n",
    "        print(\"user win\")\n",
    "    else:\n",
    "        print(f\"Rock {emojis[0]}smashes scissors{emojis[2]}: Rock{emojis[0]} win\")\n",
    "        print(\"computer win\")\n"
   ]
  },
  {
   "cell_type": "markdown",
   "id": "538aaee1-2373-4f93-81d5-41301b507c5e",
   "metadata": {},
   "source": [
    "# Mini Task 2: ATM Cash Withdrawal"
   ]
  },
  {
   "cell_type": "code",
   "execution_count": 24,
   "id": "234f2c00-8052-4862-bbc7-8546e09cfa2f",
   "metadata": {},
   "outputs": [
    {
     "name": "stdin",
     "output_type": "stream",
     "text": [
      "enter the amount to withdraw 3050\n"
     ]
    },
    {
     "name": "stdout",
     "output_type": "stream",
     "text": [
      "Transaction failed\n",
      "Error: Amount must be multiple of 100\n"
     ]
    }
   ],
   "source": [
    "balance=35000\n",
    "withdraw_amount=int(input(\"enter the amount to withdraw\"))\n",
    "if withdraw_amount<=balance:\n",
    "    if withdraw_amount%100==0:\n",
    "        print(f\"Transaction successful\")\n",
    "        print(f\"Remaining balance=\",balance-withdraw_amount)\n",
    "    else:\n",
    "        print(\"Transaction failed\")\n",
    "        print(\"Error: Amount must be multiple of 100\")\n",
    "else:\n",
    "    print(\"insufficient balance\")"
   ]
  },
  {
   "cell_type": "markdown",
   "id": "d5c45040-aeec-4502-83bf-d8ae39acba28",
   "metadata": {},
   "source": [
    "# Mini Task-3: Number Guessing Game"
   ]
  },
  {
   "cell_type": "code",
   "execution_count": 2,
   "id": "3d13ae80-e940-4ed5-9756-c2dd8b97b75c",
   "metadata": {},
   "outputs": [
    {
     "name": "stdout",
     "output_type": "stream",
     "text": [
      "Guess the number from 1-100 range\n",
      "You have maximum 5 attempts to guess correct number\n"
     ]
    },
    {
     "name": "stdin",
     "output_type": "stream",
     "text": [
      "attempt-1: Guess the number 10\n"
     ]
    },
    {
     "name": "stdout",
     "output_type": "stream",
     "text": [
      "Too low! Try again\n"
     ]
    },
    {
     "name": "stdin",
     "output_type": "stream",
     "text": [
      "attempt-2: Guess the number 55\n"
     ]
    },
    {
     "name": "stdout",
     "output_type": "stream",
     "text": [
      "Too high! Try again\n"
     ]
    },
    {
     "name": "stdin",
     "output_type": "stream",
     "text": [
      "attempt-3: Guess the number 37\n"
     ]
    },
    {
     "name": "stdout",
     "output_type": "stream",
     "text": [
      "Too low! Try again\n"
     ]
    },
    {
     "name": "stdin",
     "output_type": "stream",
     "text": [
      "attempt-4: Guess the number 50\n"
     ]
    },
    {
     "name": "stdout",
     "output_type": "stream",
     "text": [
      "Too low! Try again\n"
     ]
    },
    {
     "name": "stdin",
     "output_type": "stream",
     "text": [
      "attempt-5: Guess the number 54\n"
     ]
    },
    {
     "name": "stdout",
     "output_type": "stream",
     "text": [
      "Too high! Try again\n",
      "you have used all 5 attempts\n",
      "computer guessed number is 52\n"
     ]
    }
   ],
   "source": [
    "import random\n",
    "number=random.randint(1,100)\n",
    "attempts=0\n",
    "max_attempts=5\n",
    "print(\"Guess the number from 1-100 range\")\n",
    "print(\"You have maximum 5 attempts to guess correct number\")\n",
    "for attempts in range(1,max_attempts+1):\n",
    "    guess=int(input(f\"attempt-{attempts}: Guess the number\"))\n",
    "   \n",
    "   \n",
    "    if guess<number:\n",
    "        print(\"Too low! Try again\")\n",
    "    elif guess>number:\n",
    "        print(\"Too high! Try again\")\n",
    "    else:\n",
    "        print(\"guessed the correct number\")\n",
    "        break\n",
    "else:\n",
    "    print(f\"you have used all {max_attempts} attempts\")\n",
    "    print(f\"computer guessed number is {number}\")"
   ]
  },
  {
   "cell_type": "markdown",
   "id": "0e194f05-b329-4d60-8799-9bda246a3dbc",
   "metadata": {},
   "source": [
    "# Mini Task 4: Speed Limit Fine Calculator\n"
   ]
  },
  {
   "cell_type": "code",
   "execution_count": 40,
   "id": "8459e2d7-03d6-45e0-a874-f1c5a5046faf",
   "metadata": {},
   "outputs": [
    {
     "name": "stdin",
     "output_type": "stream",
     "text": [
      "enter your speed: 45\n"
     ]
    },
    {
     "name": "stdout",
     "output_type": "stream",
     "text": [
      "you were driving at: 45km/h\n",
      "\u001b[1;92m No fine! your are within the speed limit\n"
     ]
    }
   ],
   "source": [
    "speed_limit=60\n",
    "user_speed=int(input(\"enter your speed:\"))\n",
    "excess=user_speed-speed_limit\n",
    "if excess<=0:\n",
    "    print(f\"you were driving at: {user_speed}km/h\")\n",
    "    print(\"\\033[1;92m No fine! your are within the speed limit\")\n",
    "    # print(\"your are within the speed limit\")\n",
    "elif 1<=excess<=10:\n",
    "     print(f\"you were driving at: {user_speed}km/h\")\n",
    "     print(f\"you are {excess}km/h over your limit. Fine:\\033[1;93m₹.500\")\n",
    "elif 11<=excess<=30:\n",
    "    print(f\"you were driving at: {user_speed}km/h\")\n",
    "    print(f\"you are {excess}km/h over your limit. Fine:\\033[1;93m₹.1000\")\n",
    "else:\n",
    "    if excess>30:\n",
    "        print(f\"you were driving at: {user_speed}km/h\")\n",
    "        print(f\"you are {excess}km/h over your limit. Fine:\\033[1;93m₹.2000\")\n",
    "        print(\"\\033[1;91m YOUR LICENSE IS AT RISK!\")\n"
   ]
  },
  {
   "cell_type": "markdown",
   "id": "efded35e-f28c-4393-bf47-7e2b99ad5603",
   "metadata": {},
   "source": [
    "# Mini Task 5: Loan Approval System\n",
    "Goal:\n",
    "Build a loan approval system that decides whether a loan application is approved, conditionally approved, or rejected based on credit score, income, and debt status."
   ]
  },
  {
   "cell_type": "code",
   "execution_count": 71,
   "id": "b48eff64-ebae-4c3a-855f-8e295042a89e",
   "metadata": {},
   "outputs": [
    {
     "name": "stdin",
     "output_type": "stream",
     "text": [
      "Are you currently in debt(Yes or No): 09\n"
     ]
    },
    {
     "name": "stdout",
     "output_type": "stream",
     "text": [
      "\u001b[1;91minvalid input\n"
     ]
    }
   ],
   "source": [
    "Dept_info=input(\"Are you currently in debt(Yes or No):\").capitalize()\n",
    "if Dept_info==\"No\":\n",
    "    print(\"Submit credit_score and annual income details\")\n",
    "\n",
    "    Credit_Score=int(input(\"Enter your credit score\"))\n",
    "    Income=int(input(\"enter your monthly income\"))\n",
    "\n",
    "    if Credit_Score>=750 and Income >=50000:\n",
    "        print(\"\\033[1;92mLoan Approved\\033[00m\")\n",
    "    elif Credit_Score>=650 and Income>=35000:\n",
    "        print(\"\\033[1;92mLoan Approved with Guarantee\\033[00m\")\n",
    "        print(\" Note: You need a guarantor or collateral for this loan\")\n",
    "    elif Credit_Score<650 and Income>=50000:\n",
    "        print(\"\\033[1;91mLoan Rejected\\033[00m\")\n",
    "        print(\" Reason: Credit_Score is too low\")\n",
    "    elif Credit_Score<650 and Income<35000:\n",
    "        print(\"\\033[1;91mLoan Rejected\\033[00m\")\n",
    "        print(\" Reason: Credit_Score is too low andMonthly income is also below the required threshold\")\n",
    "    elif Credit_Score>=650 and Income<=35000:\n",
    "        print(\"\\033[1;91mLoan Rejected\\033[00m\")\n",
    "        print(\"Reason: Monthly income is below the required threshold\")\n",
    "elif Dept_info==\"Yes\":\n",
    "    print(\"\\033[1;91mLoan Rejected\\033[00m\")\n",
    "    print(\"Reason: Applicant currently in debt\")\n",
    "else:\n",
    "    print(\"\\033[1;91minvalid input\")\n"
   ]
  },
  {
   "cell_type": "markdown",
   "id": "e1f4e142-1573-49d8-a037-4b9bb79399ea",
   "metadata": {},
   "source": [
    "# Mini Task 6: Traffic Light Behavior Simulation\n",
    "Goal:\n",
    "Create a Python program that tells a driver what to do based on the traffic light color and their intended direction."
   ]
  },
  {
   "cell_type": "code",
   "execution_count": 80,
   "id": "a2315138-bb22-48a7-8602-de8bf09d049b",
   "metadata": {},
   "outputs": [
    {
     "name": "stdin",
     "output_type": "stream",
     "text": [
      "Enter traffic light colour red\n",
      "Enter the direction(Straight/Left/Right) left\n"
     ]
    },
    {
     "name": "stdout",
     "output_type": "stream",
     "text": [
      "All directions must stop\n"
     ]
    }
   ],
   "source": [
    "colour=input(\"Enter traffic light colour\").lower()\n",
    "direction=input(\"Enter the direction(Straight/Left/Right)\").lower()\n",
    "if colour==\"red\" and direction==\"left\" or direction==\"right\" or direction==\"straight\":\n",
    "    print(\"All directions must stop\")\n",
    "elif colour==\"yellow\" and direction==\"left\" or direction==\"right\" or direction==\"straight\":\n",
    "    print(\"All directions:slow down and prepare to stop\")\n",
    "elif colour==\"green\" and direction==\"straight\" or direction==\"right\":\n",
    "    print(\"Go ahead\")\n",
    "elif colour==\"green\" and direction==\"left\":\n",
    "    traffic=input(\"is there oncoming traffic? (Yes or No)\").lower()\n",
    "    if traffic==\"yes\":\n",
    "        print(\"\\033[91mWait till the traffic clears\")\n",
    "    elif traffic==\"no\":\n",
    "        print(\"you may turn left\")\n",
    "    else:\n",
    "        print(\"invalid input\")\n",
    "else:\n",
    "    print(\"enter valid colour\")"
   ]
  },
  {
   "cell_type": "code",
   "execution_count": null,
   "id": "3a5dd4dc-7293-41a2-9635-3532357eb75a",
   "metadata": {},
   "outputs": [],
   "source": []
  }
 ],
 "metadata": {
  "kernelspec": {
   "display_name": "Python 3 (ipykernel)",
   "language": "python",
   "name": "python3"
  },
  "language_info": {
   "codemirror_mode": {
    "name": "ipython",
    "version": 3
   },
   "file_extension": ".py",
   "mimetype": "text/x-python",
   "name": "python",
   "nbconvert_exporter": "python",
   "pygments_lexer": "ipython3",
   "version": "3.12.7"
  }
 },
 "nbformat": 4,
 "nbformat_minor": 5
}
